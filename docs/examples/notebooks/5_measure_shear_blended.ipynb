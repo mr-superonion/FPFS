{
 "cells": [
  {
   "cell_type": "code",
   "execution_count": 1,
   "id": "26baf0fd-838c-424c-8904-6e1a29e317a8",
   "metadata": {
    "tags": []
   },
   "outputs": [],
   "source": [
    "%load_ext autoreload\n",
    "%autoreload 2\n",
    "%matplotlib inline\n",
    "\n",
    "\n",
    "import gc\n",
    "import os \n",
    "import fpfs\n",
    "import galsim\n",
    "import numpy as np\n",
    "import matplotlib.pylab as plt\n",
    "from astropy.visualization import simple_norm\n",
    "from mpl_toolkits.axes_grid1 import ImageGrid\n",
    "import numpy.lib.recfunctions as rfn\n",
    "\n",
    "import matplotlib as mpl\n",
    "mpl.rcParams['axes.linewidth'] = 2.0 #set the value globally"
   ]
  },
  {
   "cell_type": "markdown",
   "id": "a9b59ba8-fcc8-4345-bed6-72f3e6d4b91f",
   "metadata": {},
   "source": [
    "# README\n",
    "This notebook show the test on blended galaxies (center known)\n",
    "+ we show a very extreme case --- shear estimation in extremely blended region!!\n",
    "+ the center refers to the center of isotropy (at least free of spin-2 and spin-4)"
   ]
  },
  {
   "cell_type": "code",
   "execution_count": 2,
   "id": "29f75a59-05c2-49b4-8db1-8b3ff74fe472",
   "metadata": {
    "tags": []
   },
   "outputs": [
    {
     "name": "stderr",
     "output_type": "stream",
     "text": [
      "2023/08/31 02:19:45 ---  Unable to initialize backend 'cuda': module 'jaxlib.xla_extension' has no attribute 'GpuAllocatorConfig'\n",
      "2023/08/31 02:19:45 ---  Unable to initialize backend 'rocm': module 'jaxlib.xla_extension' has no attribute 'GpuAllocatorConfig'\n",
      "2023/08/31 02:19:45 ---  Unable to initialize backend 'tpu': INVALID_ARGUMENT: TpuPlatform is not available.\n",
      "2023/08/31 02:19:45 ---  Unable to initialize backend 'plugin': xla_extension has no attributes named get_plugin_device_client. Compile TensorFlow with //tensorflow/compiler/xla/python:enable_plugin_device set to true (defaults to false) to enable this.\n",
      "2023/08/31 02:19:45 ---  No GPU/TPU found, falling back to CPU. (Set TF_CPP_MIN_LOG_LEVEL=0 and rerun for more info.)\n",
      "2023/08/31 02:19:46 ---  Order of the shear estimator: nnord=4\n",
      "2023/08/31 02:19:46 ---  Shapelet kernel in configuration space: sigma= 0.4500 arcsec\n",
      "2023/08/31 02:19:46 ---  Detection kernel in configuration space: sigma= 0.4500 arcsec\n",
      "2023/08/31 02:19:47 ---  We have 16 galaxies in total, and each 4 are the same\n",
      "2023/08/31 02:19:48 ---  We have 16 galaxies in total, and each 4 are the same\n",
      "2023/08/31 02:19:48 ---  We have 16 galaxies in total, and each 4 are the same\n",
      "2023/08/31 02:19:49 ---  We have 16 galaxies in total, and each 4 are the same\n"
     ]
    },
    {
     "name": "stdout",
     "output_type": "stream",
     "text": [
      "multiplicative bias is: 0.0007\n"
     ]
    },
    {
     "data": {
      "image/png": "[encoded data removed]",
      "text/plain": [
       "<Figure size 640x480 with 1 Axes>"
      ]
     },
     "metadata": {},
     "output_type": "display_data"
    }
   ],
   "source": [
    "rcut=32\n",
    "scale=0.168\n",
    "ngrid=256\n",
    "psfFWHM =   0.6\n",
    "shear_value = 0.02\n",
    "\n",
    "beg =   ngrid//2-rcut\n",
    "end =   beg+2*rcut\n",
    "\n",
    "psfInt = galsim.Moffat(\n",
    "    beta=3.5, fwhm=0.6, trunc=0.6 * 4.0\n",
    ").shear(e1=0.02, e2=-0.02)\n",
    "psfData = psfInt.shift(0.5 * scale, 0.5 * scale).drawImage(nx=rcut*2, ny=rcut*2, scale=scale).array\n",
    "\n",
    "ig= 445\n",
    "outDir='galaxy_cosmo250_psf60'\n",
    "results=[]\n",
    "fpTask  =   fpfs.image.measure_source(psfData, sigma_arcsec=0.45)\n",
    "#print(fpTask.klim)\n",
    "nrot=4\n",
    "for _ in range(nrot):\n",
    "    rot2=np.pi/nrot*_\n",
    "    gal=fpfs.simutil.make_cosmo_sim(outDir,psf_obj = psfInt, gname='g1-2222',ind0=ig,ny=ngrid,nx=ngrid,\\\n",
    "                                    rfrac=0.2,do_write=False,return_array=True, rot2=rot2, shear_value=shear_value)\n",
    "    gal =   gal[beg:end,beg:end]\n",
    "    modes=  fpTask.measure(gal) \n",
    "    modes = fpTask.get_results(modes)\n",
    "    results.append(modes)\n",
    "    \n",
    "plt.close()\n",
    "plt.imshow(gal,aspect='equal',cmap='RdYlBu_r',origin='lower',interpolation='None',\\\n",
    "             norm=simple_norm(gal,'asinh',asinh_a=0.1,min_cut=-0.01,max_cut=0.8))\n",
    "mms =   rfn.stack_arrays(results,usemask=False)\n",
    "ells=   fpfs.catalog.fpfs_m2e(mms,const=12)\n",
    "resp=np.average(ells['fpfs_R1E'])\n",
    "shear=np.average(ells['fpfs_e1'])/resp\n",
    "print('multiplicative bias is: %.4f' %((shear-shear_value)/shear_value))"
   ]
  }
 ],
 "metadata": {
  "kernelspec": {
   "display_name": "Python 3 (ipykernel)",
   "language": "python",
   "name": "python3"
  },
  "language_info": {
   "codemirror_mode": {
    "name": "ipython",
    "version": 3
   },
   "file_extension": ".py",
   "mimetype": "text/x-python",
   "name": "python",
   "nbconvert_exporter": "python",
   "pygments_lexer": "ipython3",
   "version": "3.10.10"
  }
 },
 "nbformat": 4,
 "nbformat_minor": 5
}
