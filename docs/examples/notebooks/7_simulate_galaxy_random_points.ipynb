{
 "cells": [
  {
   "cell_type": "code",
   "execution_count": 1,
   "id": "8a2f15a9-ecd6-4425-9d1a-7d9c798df4e1",
   "metadata": {
    "tags": []
   },
   "outputs": [
    {
     "name": "stdout",
     "output_type": "stream",
     "text": [
      "%pylab is deprecated, use %matplotlib inline and import the required libraries.\n",
      "Populating the interactive namespace from numpy and matplotlib\n"
     ]
    }
   ],
   "source": [
    "%pylab inline\n",
    "import galsim\n",
    "import fpfs\n",
    "import impt\n",
    "import numpy as np\n",
    "import matplotlib.pyplot as plt\n",
    "from astropy.visualization import simple_norm\n",
    "from mpl_toolkits.axes_grid1 import ImageGrid"
   ]
  },
  {
   "cell_type": "code",
   "execution_count": 2,
   "id": "ff8a3b1f-2b35-403f-bcac-f1ad913a754c",
   "metadata": {
    "tags": []
   },
   "outputs": [
    {
     "data": {
      "image/png": "[encoded data removed]",
      "text/plain": [
       "<Figure size 640x480 with 1 Axes>"
      ]
     },
     "metadata": {},
     "output_type": "display_data"
    }
   ],
   "source": [
    "shear_value = 0.02\n",
    "scale = 0.168\n",
    "ngrid = 64\n",
    "\n",
    "psf_obj = galsim.Moffat(\n",
    "    beta=3.5, fwhm=0.6, trunc=0.6 * 4.0\n",
    ").shear(e1=0.02, e2=-0.02)\n",
    "\n",
    "psfData = psf_obj.shift(\n",
    "    0.5 * scale, \n",
    "    0.5 * scale\n",
    ").drawImage(nx=ngrid, ny=ngrid, scale=scale).array\n",
    "ud = galsim.UniformDeviate(1)\n",
    "# use galaxies with random knots\n",
    "# we only support three versions of small galaxies with different radius\n",
    "\n",
    "nx, ny =ngrid*4, ngrid\n",
    "ngalx = int(nx // ngrid)\n",
    "ngaly = int(ny // ngrid)\n",
    "ngal = ngalx * ngaly\n",
    "# Get the shear information\n",
    "g1 = shear_value\n",
    "g2 = 0.0\n",
    "gal_image = galsim.ImageF(nx, ny, scale=scale)\n",
    "gal_image.setOrigin(0, 0)\n",
    "bigfft = galsim.GSParams(maximum_fft_size=10240)\n",
    "\n",
    "\n",
    "radius = 0.20\n",
    "npoints = 10\n",
    "gal0 = galsim.RandomKnots(\n",
    "    half_light_radius=radius, npoints=npoints, flux=10.0, rng=ud\n",
    ")\n",
    "for ix in range(4):\n",
    "    for iy in range(1):\n",
    "        igal = ix\n",
    "        b = galsim.BoundsI(\n",
    "            ix * ngrid, (ix + 1) * ngrid - 1, iy * ngrid, (iy + 1) * ngrid - 1\n",
    "        )\n",
    "        if igal == 0:\n",
    "            gal0 = galsim.RandomKnots(\n",
    "                half_light_radius=radius,\n",
    "                npoints=npoints,\n",
    "                flux=10.0,\n",
    "                rng=ud,\n",
    "                gsparams=bigfft,\n",
    "            )\n",
    "        sub_img = gal_image[b]\n",
    "        ang = igal * np.pi / 4.0 * galsim.radians\n",
    "        gal = gal0.rotate(ang)\n",
    "        # Shear the galaxy\n",
    "        gal = gal.shear(g1=g1, g2=g2)\n",
    "        gal = galsim.Convolve([psf_obj, gal], gsparams=bigfft)\n",
    "        gal = gal.shift(0.5 * scale, 0.5 * scale)\n",
    "        # Draw the galaxy image\n",
    "        gal.drawImage(sub_img, add_to_image=True)\n",
    "        del gal, b, sub_img\n",
    "del ud\n",
    "\n",
    "gal_data = gal_image.array\n",
    "\n",
    "\n",
    "plt.close()\n",
    "plt.imshow(gal_data,aspect='equal',cmap='RdYlBu_r',origin='lower',interpolation='None',\\\n",
    "             norm=simple_norm(gal_data,'asinh',asinh_a=0.1,min_cut=-0.01,max_cut=0.3))\n",
    "plt.show()"
   ]
  },
  {
   "cell_type": "code",
   "execution_count": 3,
   "id": "c6f9296d-5c45-4684-9808-c4f6b8e97557",
   "metadata": {
    "tags": []
   },
   "outputs": [
    {
     "name": "stderr",
     "output_type": "stream",
     "text": [
      "2023/08/15 14:15:50 ---  No GPU/TPU found, falling back to CPU. (Set TF_CPP_MIN_LOG_LEVEL=0 and rerun for more info.)\n",
      "2023/08/15 14:15:50 ---  Order of the shear estimator: nnord=4\n",
      "2023/08/15 14:15:50 ---  Shapelet kernel in configuration space: sigma= 0.6000 arcsec\n",
      "2023/08/15 14:15:50 ---  Detection kernel in configuration space: sigma= 0.6000 arcsec\n"
     ]
    },
    {
     "name": "stdout",
     "output_type": "stream",
     "text": [
      "Input shear is: 0.020000\n",
      "Estimated shear is: 0.019994\n"
     ]
    }
   ],
   "source": [
    "# Now we measure shear\n",
    "rcut = 32\n",
    "# Force detection\n",
    "indX = np.arange(int(ngrid/2), nx, ngrid)\n",
    "indY = np.arange(int(ngrid/2), ny, ngrid)\n",
    "inds = np.meshgrid(indY, indX, indexing=\"ij\")\n",
    "coords = np.vstack(inds).T\n",
    "\n",
    "fpTask  =   fpfs.image.measure_source(psfData,pix_scale = scale, sigma_arcsec=0.6)\n",
    "mms =  fpTask.measure(gal_data, coords)\n",
    "mms = fpTask.get_results(mms)\n",
    "ells=   fpfs.catalog.fpfs_m2e(mms,const=2000)\n",
    "resp=np.average(ells['fpfs_R1E'])\n",
    "shear=np.average(ells['fpfs_e1'])/resp\n",
    "\n",
    "print('Input shear is: %.6f' %shear_value)\n",
    "print('Estimated shear is: %.6f' %shear)"
   ]
  }
 ],
 "metadata": {
  "kernelspec": {
   "display_name": "Python 3 (ipykernel)",
   "language": "python",
   "name": "python3"
  },
  "language_info": {
   "codemirror_mode": {
    "name": "ipython",
    "version": 3
   },
   "file_extension": ".py",
   "mimetype": "text/x-python",
   "name": "python",
   "nbconvert_exporter": "python",
   "pygments_lexer": "ipython3",
   "version": "3.10.10"
  }
 },
 "nbformat": 4,
 "nbformat_minor": 5
}
