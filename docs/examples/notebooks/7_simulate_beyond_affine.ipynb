{
 "cells": [
  {
   "cell_type": "code",
   "execution_count": 1,
   "id": "b1d79f65-5e9f-4af9-8bde-0447b8152c9b",
   "metadata": {
    "tags": []
   },
   "outputs": [],
   "source": [
    "%matplotlib inline\n",
    "%reload_ext autoreload\n",
    "%autoreload 2\n",
    "import os\n",
    "import fpfs\n",
    "import galsim\n",
    "import numpy as np\n",
    "import matplotlib.pylab as plt"
   ]
  },
  {
   "cell_type": "code",
   "execution_count": 2,
   "id": "862f266c-770e-45e5-bac8-9228d2e8473f",
   "metadata": {
    "tags": []
   },
   "outputs": [],
   "source": [
    "class LensTransform1(object):\n",
    "    def __init__(self, gamma1, gamma2, kappa):\n",
    "        \"\"\"Initialize the transform object of 2D grids\n",
    "        Args:\n",
    "            gamma1 (float):     the first component of lensing shear field\n",
    "            gamma2 (float):     the second component of lensing shear field\n",
    "            kappa (float):      the lensing convergence field\n",
    "        \"\"\"\n",
    "        self.s2l_mat = np.array(\n",
    "            [\n",
    "                [1 - kappa - gamma1, -gamma2], \n",
    "                [-gamma2, 1 - kappa + gamma1]\n",
    "            ]\n",
    "        )\n",
    "        return\n",
    "    \n",
    "    def transform(self, coords):\n",
    "        \"\"\"transform the center of pixels from lensed plane to pre-lensed plane\n",
    "        Args:\n",
    "            coords:   coordinates (x, y) of the pixel centers [arcsec]\n",
    "        \"\"\"\n",
    "        return self.s2l_mat @ coords"
   ]
  },
  {
   "cell_type": "code",
   "execution_count": 18,
   "id": "466fc44b",
   "metadata": {},
   "outputs": [],
   "source": [
    "class LensTransform2(object):\n",
    "    def __init__(self, gamma1, gamma2, kappa, F1=0, F2=0, G1=0, G2=0):\n",
    "        \"\"\"Initialize the transform object of 2D grids\n",
    "        Args:\n",
    "            gamma1 (float):     the first component of lensing shear field\n",
    "            gamma2 (float):     the second component of lensing shear field\n",
    "            kappa (float):      the lensing convergence field\n",
    "        \"\"\"\n",
    "        self.s2l_mat = np.array(\n",
    "            [[1 - kappa - gamma1, -gamma2], [-gamma2, 1 - kappa + gamma1]]\n",
    "        )\n",
    "        D1 = -1/2*np.array([[3*F1+G1,F2+G2],[F2+G2,F1-G1]])\n",
    "        D2 = -1/2*np.array([[F2+G2,F1-G1],[F1-G1,3*F2-G2]])\n",
    "        self.D = np.stack([D1,D2],axis=2)\n",
    "        return\n",
    "\n",
    "    def transform(self, coords):\n",
    "        \"\"\"transform the center of pixels from lensed plane to pre-lensed plane\n",
    "        Args:\n",
    "            coords:   coordinates (x, y) of the pixel centers [arcsec]\n",
    "        \"\"\"\n",
    "        return self.s2l_mat @ coords + np.einsum('ijk,jl,kl->il',self.D,coords,coords)"
   ]
  },
  {
   "cell_type": "code",
   "execution_count": 19,
   "id": "8e028b35-c6b8-4948-ba7f-a9aa524e26e1",
   "metadata": {
    "tags": []
   },
   "outputs": [
    {
     "data": {
      "text/plain": [
       "<matplotlib.image.AxesImage at 0x11e10c070>"
      ]
     },
     "execution_count": 19,
     "metadata": {},
     "output_type": "execute_result"
    },
    {
     "data": {
      "image/png": "[encoded data removed]",
      "text/plain": [
       "<Figure size 640x480 with 1 Axes>"
      ]
     },
     "metadata": {},
     "output_type": "display_data"
    }
   ],
   "source": [
    "\"\"\"Original galaxy\"\"\"\n",
    "flux = 40\n",
    "scale = 0.2\n",
    "nn = 64\n",
    "sersic_gal = galsim.Sersic(n=1.5, half_light_radius=1.5, flux=flux, trunc=4)\n",
    "stamp = fpfs.simutil.Stamp(nn=nn, scale=scale)\n",
    "gal_array = stamp.sample_galaxy(sersic_gal)\n",
    "plt.close()\n",
    "fpfs.pltutil.make_plot_image(gal_array)"
   ]
  },
  {
   "cell_type": "code",
   "execution_count": 20,
   "id": "ba8e1796",
   "metadata": {},
   "outputs": [
    {
     "data": {
      "text/plain": [
       "-6.2"
      ]
     },
     "execution_count": 20,
     "metadata": {},
     "output_type": "execute_result"
    }
   ],
   "source": [
    "stamp.coords[1,100]"
   ]
  },
  {
   "cell_type": "code",
   "execution_count": 35,
   "id": "37172756-2c28-4267-acdb-7b27ee81ad09",
   "metadata": {
    "tags": []
   },
   "outputs": [
    {
     "data": {
      "text/plain": [
       "<matplotlib.image.AxesImage at 0x11e2e78b0>"
      ]
     },
     "execution_count": 35,
     "metadata": {},
     "output_type": "execute_result"
    },
    {
     "data": {
      "image/png": "[encoded data removed]",
      "text/plain": [
       "<Figure size 640x480 with 1 Axes>"
      ]
     },
     "metadata": {},
     "output_type": "display_data"
    }
   ],
   "source": [
    "\"\"\"Transform then produce image\"\"\"\n",
    "kappa = 0.05\n",
    "gamma1 = 0.2\n",
    "gamma2 = 0.3\n",
    "G1 = 0.003\n",
    "G2 = 0.0025\n",
    "F1 = 0.0007\n",
    "F2 = 0.001\n",
    "lens = LensTransform2(gamma1=gamma1, gamma2=gamma2, kappa=kappa,F1=F1,F2=F2,G1=G1,G2=G2)\n",
    "\n",
    "stamp = fpfs.simutil.Stamp(nn=nn, scale=scale)\n",
    "stamp.transform_grids(lens)\n",
    "gal_array2 = stamp.sample_galaxy(sersic_gal)\n",
    "plt.close()\n",
    "fpfs.pltutil.make_plot_image(gal_array2)"
   ]
  },
  {
   "cell_type": "code",
   "execution_count": 48,
   "id": "758ac343-e0d6-423d-9e09-d4d262eaf20a",
   "metadata": {
    "tags": []
   },
   "outputs": [
    {
     "name": "stderr",
     "output_type": "stream",
     "text": [
      "2023/09/18 01:09:15 ---  Order of the shear estimator: nnord=4\n",
      "2023/09/18 01:09:15 ---  Shapelet kernel in configuration space: sigma= 0.5200 arcsec\n",
      "2023/09/18 01:09:15 ---  Detection kernel in configuration space: sigma= 0.5200 arcsec\n"
     ]
    },
    {
     "name": "stdout",
     "output_type": "stream",
     "text": [
      "0.20013569976121798\n",
      "0.29190411649459763\n"
     ]
    },
    {
     "data": {
      "text/plain": [
       "'With gamma = 0.2, 0.3 and flexino with order around 0.01, the estimation was around 0.20048144975333682 and 0.29221031487931887'"
      ]
     },
     "execution_count": 48,
     "metadata": {},
     "output_type": "execute_result"
    }
   ],
   "source": [
    "kappa = 0.00\n",
    "gamma1 = 0.2\n",
    "gamma2 = 0.3\n",
    "G1 = 0.003 * 1\n",
    "G2 = 0.0025 *1\n",
    "F1 = 0.0007 * 1\n",
    "F2 = 0.001 * 1\n",
    "lens = LensTransform2(gamma1=gamma1, gamma2=gamma2, kappa=kappa,F1=F1,F2=F2,G1=G1,G2=G2)\n",
    "stamp = fpfs.simutil.Stamp(nn=64, scale=scale)\n",
    "stamp.transform_grids(lens)\n",
    "gal_array3 = stamp.sample_galaxy(sersic_gal)\n",
    "psf_array = np.zeros(stamp.shape)\n",
    "psf_array[nn // 2, nn // 2] = 1\n",
    "\n",
    "coords = np.array([nn//2, nn//2])\n",
    "fpTask  =   fpfs.image.measure_source(psf_array, pix_scale = scale, sigma_arcsec=0.52)\n",
    "mms =  fpTask.measure(gal_array3, coords)\n",
    "mms = fpTask.get_results(mms)\n",
    "ells=   fpfs.catalog.fpfs_m2e(mms,const=20)\n",
    "resp1=np.average(ells['fpfs_R1E'])\n",
    "shear1=np.average(ells['fpfs_e1'])/resp1\n",
    "resp2=np.average(ells['fpfs_R2E'])\n",
    "shear2=np.average(ells['fpfs_e2'])/resp2\n",
    "print(shear1)\n",
    "print(shear2)\n",
    "# print(\"input shear: %.5f\" % gamma1)\n",
    "# print(\"measured shear: %.5f\" % shear)\n",
    "\"\"\"With gamma =0.2,0.3, the estimation was around 0.20013218952982748 and 0.2919009958423755\"\"\"\n",
    "\"\"\"...0.02, 0.03, ...0.02003064723646912 and 0.02998245742260666\"\"\"\n",
    "\"\"\"Now adding Flexion with order of magnitude around 0.001, for 0.02, 0.03, we get 0.020032481694420345 and 0.029983423954798905\"\"\"\n",
    "\"\"\"Now adding flexion with order of magnitude around 0.01, we get 0.020214244225607216 and 0.030079188989101006\"\"\"\n",
    "\n",
    "\n",
    "\"\"\"With gamma =0.2,0.3, and flexion with order around 0.001, the estimation was around 0.20013569976121798 and 0.29190411649459763\"\"\"\n",
    "\"\"\"With gamma = 0.2, 0.3 and flexino with order around 0.01, the estimation was around 0.20048144975333682 and 0.29221031487931887\"\"\""
   ]
  },
  {
   "cell_type": "code",
   "execution_count": null,
   "id": "abbeae0e-be3e-495b-834d-3e5a1fe31f1e",
   "metadata": {},
   "outputs": [],
   "source": []
  }
 ],
 "metadata": {
  "kernelspec": {
   "display_name": "Python 3 (ipykernel)",
   "language": "python",
   "name": "python3"
  },
  "language_info": {
   "codemirror_mode": {
    "name": "ipython",
    "version": 3
   },
   "file_extension": ".py",
   "mimetype": "text/x-python",
   "name": "python",
   "nbconvert_exporter": "python",
   "pygments_lexer": "ipython3",
   "version": "3.10.12"
  }
 },
 "nbformat": 4,
 "nbformat_minor": 5
}
