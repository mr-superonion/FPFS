{
 "cells": [
  {
   "cell_type": "code",
   "execution_count": 2,
   "id": "b74c4e55-f682-4e92-af24-bdd84e66fe60",
   "metadata": {
    "tags": []
   },
   "outputs": [
    {
     "ename": "ModuleNotFoundError",
     "evalue": "No module named 'scipy'",
     "output_type": "error",
     "traceback": [
      "\u001b[0;31m---------------------------------------------------------------------------\u001b[0m",
      "\u001b[0;31mModuleNotFoundError\u001b[0m                       Traceback (most recent call last)",
      "\u001b[1;32m/Users/a1/Documents/GitHub/FPFS/docs/examples/notebooks/12_flexion_bias_fix_F1G2.ipynb Cell 1\u001b[0m line \u001b[0;36m6\n\u001b[1;32m      <a href='vscode-notebook-cell:/Users/a1/Documents/GitHub/FPFS/docs/examples/notebooks/12_flexion_bias_fix_F1G2.ipynb#W0sZmlsZQ%3D%3D?line=3'>4</a>\u001b[0m \u001b[39mimport\u001b[39;00m \u001b[39mmatplotlib\u001b[39;00m\u001b[39m.\u001b[39;00m\u001b[39mpyplot\u001b[39;00m \u001b[39mas\u001b[39;00m \u001b[39mplt\u001b[39;00m\n\u001b[1;32m      <a href='vscode-notebook-cell:/Users/a1/Documents/GitHub/FPFS/docs/examples/notebooks/12_flexion_bias_fix_F1G2.ipynb#W0sZmlsZQ%3D%3D?line=4'>5</a>\u001b[0m \u001b[39mimport\u001b[39;00m \u001b[39mnumpy\u001b[39;00m \u001b[39mas\u001b[39;00m \u001b[39mnp\u001b[39;00m\n\u001b[0;32m----> <a href='vscode-notebook-cell:/Users/a1/Documents/GitHub/FPFS/docs/examples/notebooks/12_flexion_bias_fix_F1G2.ipynb#W0sZmlsZQ%3D%3D?line=5'>6</a>\u001b[0m \u001b[39mfrom\u001b[39;00m \u001b[39mscipy\u001b[39;00m\u001b[39m.\u001b[39;00m\u001b[39moptimize\u001b[39;00m \u001b[39mimport\u001b[39;00m curve_fit\n",
      "\u001b[0;31mModuleNotFoundError\u001b[0m: No module named 'scipy'"
     ]
    }
   ],
   "source": [
    "import torch\n",
    "import torch.nn as nn\n",
    "from astropy.io import fits\n",
    "import matplotlib.pyplot as plt\n",
    "import numpy as np\n",
    "from scipy.optimize import curve_fit\n"
   ]
  },
  {
   "cell_type": "code",
   "execution_count": 7,
   "id": "83ae7360-2d08-4013-9307-73d71b5d414c",
   "metadata": {
    "tags": []
   },
   "outputs": [
    {
     "data": {
      "text/plain": [
       "array([0.   , 0.001, 0.002, 0.003, 0.004, 0.005, 0.006, 0.007, 0.008,\n",
       "       0.009, 0.01 , 0.011, 0.012, 0.013, 0.014, 0.015, 0.016, 0.017,\n",
       "       0.018, 0.019, 0.02 ])"
      ]
     },
     "execution_count": 7,
     "metadata": {},
     "output_type": "execute_result"
    }
   ],
   "source": [
    "G1 = 0.0\n",
    "F2 = 0.0\n",
    "F1 = np.linspace(0.001,0.01,5)\n",
    "G2 = np.linspace(0.001,0.01,5)"
   ]
  },
  {
   "cell_type": "code",
   "execution_count": null,
   "id": "a6b8c920-9c17-458f-b4f8-8a849c2cc5ca",
   "metadata": {},
   "outputs": [],
   "source": [
    "G1 = 0.0\n",
    "F2 = 0.0\n",
    "F1 = np.linspace(0.001,0.01,5)\n",
    "G2 = np.linspace(0.001,0.01,5)\n",
    "input_gamma1 = np.linspace(0.0,0.02,21)\n",
    "measured_gamma1 = np.zeros((len(input_gamma1),len(F1),len(G2)),dtype=np.float64)\n",
    "gamma1_bias = np.zeros_like(measured_gamma1)\n",
    "additive_bias = np.zeros((len(F1),len(G2)),dtype=np.float64)\n",
    "multiplicative_bias = np.zeros((len(F1),len(G2)),dtype=np.float64)\n",
    "for i in range(len(input_gamma1)):\n",
    "    measured_gamma1[i][:][:] = fits.getdata(f'data/gamma1_measured_flexion_F1G2_{input_gamma1[i]:.3f}.fits')\n",
    "    gamma1_bias[i][:][:] = measured_gamma1[i][:][:] - input_gamma1[i]\n",
    "\n",
    "### use linear fit to get additive bias\n",
    "for i in range(len(F1)):\n",
    "    for j in range(len(G2)):\n",
    "        model = np.poly1d(np.polyfit(input_gamma1, gamma1_bias[:,i,j], 1))\n",
    "        additive_bias[i,j] = model[0]\n",
    "        multiplicative_bias[i,j] = model[1]"
   ]
  },
  {
   "cell_type": "code",
   "execution_count": null,
   "metadata": {},
   "outputs": [],
   "source": [
    "f1,g2 = np.meshgrid(F1,G2)\n",
    "def F1G2(F1G2,a):\n",
    "    F1,G2 = F1G2\n",
    "    return a * F1 * G2\n",
    "F1G2 = np.vstack([f1.ravel(), g2.ravel()])\n",
    "MB = multiplicative_bias.ravel()\n",
    "\n",
    "popt, _ = curve_fit(F1G2, F1G2, MB)\n",
    "\n",
    "# Visualize\n",
    "a = popt[0]\n",
    "MB_fit = a * f1 * g2"
   ]
  },
  {
   "cell_type": "code",
   "execution_count": null,
   "metadata": {},
   "outputs": [],
   "source": [
    "plt.figure()\n",
    "plt.subplot(1, 2, 1)\n",
    "plt.title(\"Original Data\")\n",
    "plt.pcolormesh(f1, g2, multiplicative_bias, shading='auto')\n",
    "plt.colorbar()\n",
    "\n",
    "plt.subplot(1, 2, 2)\n",
    "plt.title(\"Fitted Data\")\n",
    "plt.pcolormesh(X, Y, MB_fit, shading='auto')\n",
    "plt.colorbar()\n",
    "\n",
    "plt.show()"
   ]
  }
 ],
 "metadata": {
  "kernelspec": {
   "display_name": "Python 3 (ipykernel)",
   "language": "python",
   "name": "python3"
  },
  "language_info": {
   "codemirror_mode": {
    "name": "ipython",
    "version": 3
   },
   "file_extension": ".py",
   "mimetype": "text/x-python",
   "name": "python",
   "nbconvert_exporter": "python",
   "pygments_lexer": "ipython3",
   "version": "3.10.12"
  }
 },
 "nbformat": 4,
 "nbformat_minor": 5
}
