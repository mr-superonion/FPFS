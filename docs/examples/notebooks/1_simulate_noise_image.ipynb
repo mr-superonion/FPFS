{
 "cells": [
  {
   "cell_type": "code",
   "execution_count": 1,
   "id": "b1d79f65-5e9f-4af9-8bde-0447b8152c9b",
   "metadata": {},
   "outputs": [],
   "source": [
    "%matplotlib inline\n",
    "%reload_ext autoreload\n",
    "%autoreload 2\n",
    "import os\n",
    "import galsim\n",
    "import astropy.io.fits as pyfits"
   ]
  },
  {
   "cell_type": "code",
   "execution_count": 4,
   "id": "51c95e6d-238c-4dd8-ba70-8123fbf44e9b",
   "metadata": {},
   "outputs": [
    {
     "data": {
      "text/plain": [
       "galsim.Image(bounds=galsim.BoundsI(xmin=0, xmax=6399, ymin=0, ymax=6399), array=\n",
       "array([[-0.06387837, -0.11317293, -0.09092055, ...,  0.12231466,\n",
       "        -0.0595307 , -0.16100994],\n",
       "       [ 0.04106306, -0.09442233, -0.14250383, ..., -0.06676477,\n",
       "         0.01649002,  0.12679401],\n",
       "       [ 0.00905336,  0.03324465, -0.13445288, ...,  0.00234344,\n",
       "        -0.01069246,  0.03849047],\n",
       "       ...,\n",
       "       [-0.1181237 , -0.14214994,  0.02201384, ...,  0.00943333,\n",
       "        -0.05264562, -0.01232291],\n",
       "       [ 0.08748364, -0.04552655, -0.10468618, ...,  0.14591035,\n",
       "        -0.03094922, -0.06359212],\n",
       "       [ 0.01262801, -0.22272049, -0.27546167, ...,  0.15163177,\n",
       "         0.0438892 , -0.1618046 ]], dtype=float32), wcs=galsim.OffsetWCS(0.168, galsim.PositionI(x=-1, y=-1), galsim.PositionD(x=0.0, y=0.0)))"
      ]
     },
     "execution_count": 4,
     "metadata": {},
     "output_type": "execute_result"
    }
   ],
   "source": [
    "ngrid = 64\n",
    "nx = 100\n",
    "ny = nx\n",
    "ud = 1\n",
    "scale = 0.168\n",
    "\n",
    "variance = 0.01\n",
    "ud = galsim.UniformDeviate(1)\n",
    "\n",
    "# setup the galaxy image and the noise image\n",
    "noi_image = galsim.ImageF(nx * ngrid, ny * ngrid, scale=scale)\n",
    "noi_image.setOrigin(0, 0)\n",
    "corNoise = galsim.getCOSMOSNoise(\n",
    "    file_name=\"./data/correlation.fits\",\n",
    "    rng=ud,\n",
    "    cosmos_scale=scale,\n",
    "    variance=variance,\n",
    ")\n",
    "corNoise.applyTo(noi_image)"
   ]
  }
 ],
 "metadata": {
  "kernelspec": {
   "display_name": "Python 3 (ipykernel)",
   "language": "python",
   "name": "python3"
  },
  "language_info": {
   "codemirror_mode": {
    "name": "ipython",
    "version": 3
   },
   "file_extension": ".py",
   "mimetype": "text/x-python",
   "name": "python",
   "nbconvert_exporter": "python",
   "pygments_lexer": "ipython3",
   "version": "3.10.6"
  }
 },
 "nbformat": 4,
 "nbformat_minor": 5
}
