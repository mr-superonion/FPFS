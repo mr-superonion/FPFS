{
 "cells": [
  {
   "cell_type": "code",
   "execution_count": 1,
   "id": "8a2f15a9-ecd6-4425-9d1a-7d9c798df4e1",
   "metadata": {
    "tags": []
   },
   "outputs": [],
   "source": [
    "%matplotlib inline\n",
    "%reload_ext autoreload\n",
    "%autoreload 2\n",
    "import galsim\n",
    "import fpfs\n",
    "import impt\n",
    "import numpy as np\n",
    "import matplotlib.pyplot as plt\n",
    "from astropy.visualization import simple_norm\n",
    "from mpl_toolkits.axes_grid1 import ImageGrid"
   ]
  },
  {
   "cell_type": "markdown",
   "id": "48b40422-4b8c-4508-9d71-e5ecb020fc1a",
   "metadata": {},
   "source": [
    "# HSC like simulation using parametric galaxies from COSMOS"
   ]
  },
  {
   "cell_type": "code",
   "execution_count": 2,
   "id": "50b377a0-a670-48a5-b722-862aaa286f30",
   "metadata": {
    "tags": []
   },
   "outputs": [
    {
     "name": "stderr",
     "output_type": "stream",
     "text": [
      "2023/09/01 14:58:02 ---  Processing for g1-2222, and shears for four redshift bins are [0.02 0.02 0.02 0.02].\n",
      "2023/09/01 14:58:02 ---  Making Basic Simulation. ID: 212\n"
     ]
    },
    {
     "data": {
      "image/png": "[encoded data removed]",
      "text/plain": [
       "<Figure size 640x480 with 1 Axes>"
      ]
     },
     "metadata": {},
     "output_type": "display_data"
    },
    {
     "name": "stderr",
     "output_type": "stream",
     "text": [
      "2023/09/01 14:58:02 ---  Unable to initialize backend 'cuda': module 'jaxlib.xla_extension' has no attribute 'GpuAllocatorConfig'\n",
      "2023/09/01 14:58:02 ---  Unable to initialize backend 'rocm': module 'jaxlib.xla_extension' has no attribute 'GpuAllocatorConfig'\n",
      "2023/09/01 14:58:02 ---  Unable to initialize backend 'tpu': INVALID_ARGUMENT: TpuPlatform is not available.\n",
      "2023/09/01 14:58:02 ---  Unable to initialize backend 'plugin': xla_extension has no attributes named get_plugin_device_client. Compile TensorFlow with //tensorflow/compiler/xla/python:enable_plugin_device set to true (defaults to false) to enable this.\n",
      "2023/09/01 14:58:02 ---  No GPU/TPU found, falling back to CPU. (Set TF_CPP_MIN_LOG_LEVEL=0 and rerun for more info.)\n",
      "2023/09/01 14:58:03 ---  Order of the shear estimator: nnord=4\n",
      "2023/09/01 14:58:03 ---  Shapelet kernel in configuration space: sigma= 0.7000 arcsec\n",
      "2023/09/01 14:58:03 ---  Detection kernel in configuration space: sigma= 0.7000 arcsec\n"
     ]
    },
    {
     "name": "stdout",
     "output_type": "stream",
     "text": [
      "Input shear is: 0.020000\n",
      "Estimated shear is: 0.020003\n"
     ]
    }
   ],
   "source": [
    "shear_value = 0.02\n",
    "scale = 0.168\n",
    "nx, ny = 64, 64\n",
    "outDir='galaxy_basicCenter_psf60'\n",
    "psfInt = galsim.Moffat(\n",
    "    beta=3.5, fwhm=0.6, trunc=0.6 * 4.0\n",
    ").shear(e1=0.02, e2=-0.02)\n",
    "psfData = psfInt.shift(0.5 * scale, 0.5 * scale).drawImage(nx=nx, ny=ny, scale=scale).array\n",
    "\n",
    "# Four Galaxies to cancel spin-2 and spin-4 ansiotropies\n",
    "# spin-2 is shape noise in diagnonal elements of shear response matrix\n",
    "# spin-4 is shape noise in diagnonal and of-diagnoal elements of shear response matrix, \n",
    "# but an order of magnitude smaller than spin-2\n",
    "seed = 212\n",
    "gname = \"g1-2222\"\n",
    "gal_data = fpfs.simutil.make_isolate_sim(\n",
    "    gal_type=\"basic\",\n",
    "    psf_obj=psfInt,\n",
    "    gname=gname,\n",
    "    seed=seed,\n",
    "    ny=ny,\n",
    "    nx=nx*4,\n",
    "    scale=scale,\n",
    "    do_shift=False,\n",
    "    nrot=4,\n",
    ")\n",
    "\n",
    "plt.close()\n",
    "plt.imshow(gal_data,aspect='equal',cmap='RdYlBu_r',origin='lower',interpolation='None',\\\n",
    "             norm=simple_norm(gal_data,'asinh',asinh_a=0.1,min_cut=-0.01,max_cut=0.3))\n",
    "plt.show()\n",
    "# Now we measure shear\n",
    "rcut = 32\n",
    "\n",
    "# Force detection at the stamp center point (ngrid//2, ngrid//2)\n",
    "indX = np.arange(int(nx/2), nx*4, nx)\n",
    "indY = np.arange(int(ny/2), ny, ny)\n",
    "inds = np.meshgrid(indY, indX, indexing=\"ij\")\n",
    "coords = np.vstack([np.ravel(_) for _ in inds]).T\n",
    "\n",
    "fpTask  =   fpfs.image.measure_source(psfData,pix_scale = scale, sigma_arcsec=0.7)\n",
    "mms =  fpTask.measure(gal_data, coords)\n",
    "mms = fpTask.get_results(mms)\n",
    "ells=   fpfs.catalog.fpfs_m2e(mms,const=2000)\n",
    "resp=np.average(ells['fpfs_R1E'])\n",
    "shear=np.average(ells['fpfs_e1'])/resp\n",
    "\n",
    "print('Input shear is: %.6f' %shear_value)\n",
    "print('Estimated shear is: %.6f' %shear)"
   ]
  },
  {
   "cell_type": "markdown",
   "id": "07015e80-c7f7-40a7-ae27-a25c27b738d9",
   "metadata": {},
   "source": [
    "# HSC like simulation using parametric + Knots galaxies"
   ]
  },
  {
   "cell_type": "code",
   "execution_count": 4,
   "id": "682d0d0a-8f2f-4bea-b3bc-32d92d05c5b3",
   "metadata": {
    "tags": []
   },
   "outputs": [
    {
     "name": "stderr",
     "output_type": "stream",
     "text": [
      "2023/09/01 14:58:04 ---  Processing for g1-2222, and shears for four redshift bins are [0.02 0.02 0.02 0.02].\n",
      "2023/09/01 14:58:04 ---  Making Basic Simulation. ID: 212\n",
      "2023/09/01 14:58:04 ---  Processing for g1-2222, and shears for four redshift bins are [0.02 0.02 0.02 0.02].\n",
      "2023/09/01 14:58:04 ---  Making galaxies with Random Knots.\n"
     ]
    },
    {
     "data": {
      "image/png": "[encoded data removed]",
      "text/plain": [
       "<Figure size 640x480 with 1 Axes>"
      ]
     },
     "metadata": {},
     "output_type": "display_data"
    },
    {
     "name": "stderr",
     "output_type": "stream",
     "text": [
      "2023/09/01 14:58:05 ---  Order of the shear estimator: nnord=4\n",
      "2023/09/01 14:58:05 ---  Shapelet kernel in configuration space: sigma= 0.7000 arcsec\n",
      "2023/09/01 14:58:05 ---  Detection kernel in configuration space: sigma= 0.7000 arcsec\n"
     ]
    },
    {
     "name": "stdout",
     "output_type": "stream",
     "text": [
      "Input shear is: 0.020000\n",
      "Estimated shear is: 0.020002\n"
     ]
    }
   ],
   "source": [
    "shear_value = 0.02\n",
    "scale = 0.168\n",
    "nx, ny = 64, 64\n",
    "outDir='galaxy_basicCenter_psf60'\n",
    "psfInt = galsim.Moffat(\n",
    "    beta=3.5, fwhm=0.6, trunc=0.6 * 4.0\n",
    ").shear(e1=0.02, e2=-0.02)\n",
    "psfData = psfInt.shift(0.5 * scale, 0.5 * scale).drawImage(nx=nx, ny=ny, scale=scale).array\n",
    "\n",
    "# Four Galaxies to cancel spin-2 and spin-4 ansiotropies\n",
    "# spin-2 is shape noise in diagnonal elements of shear response matrix\n",
    "# spin-4 is shape noise in diagnonal and of-diagnoal elements of shear response matrix, \n",
    "# but an order of magnitude smaller than spin-2\n",
    "gname = \"g1-2222\"\n",
    "seed = 212\n",
    "gal_data = fpfs.simutil.make_isolate_sim(\n",
    "    gal_type=\"basic\",\n",
    "    psf_obj=psfInt,\n",
    "    gname=gname,\n",
    "    seed=seed,\n",
    "    ny=ny,\n",
    "    nx=nx*4,\n",
    "    scale=scale,\n",
    "    do_shift=False,\n",
    "    nrot=4,\n",
    ")\n",
    "\n",
    "gal_data2 = fpfs.simutil.make_isolate_sim(\n",
    "    gal_type=\"random\",\n",
    "    psf_obj=psfInt,\n",
    "    gname=gname,\n",
    "    seed=seed,\n",
    "    ny=ny,\n",
    "    nx=nx*4,\n",
    "    scale=scale,\n",
    "    do_shift=False,\n",
    "    nrot=4,\n",
    ")\n",
    "\n",
    "gal_data = gal_data * 0.7 + gal_data2 * 0.2\n",
    "\n",
    "plt.close()\n",
    "plt.imshow(gal_data,aspect='equal',cmap='RdYlBu_r',origin='lower',interpolation='None',\\\n",
    "             norm=simple_norm(gal_data,'asinh',asinh_a=0.1,min_cut=-0.01,max_cut=0.3))\n",
    "plt.show()\n",
    "# Now we measure shear\n",
    "rcut = 32\n",
    "\n",
    "# Force detection\n",
    "indX = np.arange(int(nx//2), nx*4, nx)\n",
    "indY = np.arange(int(ny//2), ny, ny)\n",
    "inds = np.meshgrid(indY, indX, indexing=\"ij\")\n",
    "coords = np.vstack(inds).T\n",
    "\n",
    "fpTask  =   fpfs.image.measure_source(psfData,pix_scale = scale, sigma_arcsec=0.7)\n",
    "mms =  fpTask.measure(gal_data, coords)\n",
    "mms = fpTask.get_results(mms)\n",
    "ells=   fpfs.catalog.fpfs_m2e(mms,const=2000)\n",
    "resp=np.average(ells['fpfs_R1E'])\n",
    "shear=np.average(ells['fpfs_e1'])/resp\n",
    "\n",
    "print('Input shear is: %.6f' %shear_value)\n",
    "print('Estimated shear is: %.6f' %shear)"
   ]
  },
  {
   "cell_type": "markdown",
   "id": "d1003ca1-c54e-4fa5-aa2b-3cd0772b6ccf",
   "metadata": {},
   "source": [
    "# Simulation with extremely small pixel size"
   ]
  },
  {
   "cell_type": "code",
   "execution_count": 5,
   "id": "322971c4-a6c0-4cdc-8c1d-a245263b5fd6",
   "metadata": {
    "tags": []
   },
   "outputs": [
    {
     "name": "stderr",
     "output_type": "stream",
     "text": [
      "2023/09/01 14:58:06 ---  Processing for g1-2222, and shears for four redshift bins are [0.02 0.02 0.02 0.02].\n",
      "2023/09/01 14:58:06 ---  Making Basic Simulation. ID: 2\n"
     ]
    },
    {
     "data": {
      "image/png": "[encoded data removed]",
      "text/plain": [
       "<Figure size 640x480 with 1 Axes>"
      ]
     },
     "metadata": {},
     "output_type": "display_data"
    },
    {
     "name": "stderr",
     "output_type": "stream",
     "text": [
      "2023/09/01 14:58:06 ---  Order of the shear estimator: nnord=4\n",
      "2023/09/01 14:58:06 ---  Shapelet kernel in configuration space: sigma= 0.7000 arcsec\n",
      "2023/09/01 14:58:06 ---  Detection kernel in configuration space: sigma= 0.7000 arcsec\n"
     ]
    },
    {
     "name": "stdout",
     "output_type": "stream",
     "text": [
      "Input shear is: 0.020000\n",
      "Estimated shear is: 0.020001\n"
     ]
    }
   ],
   "source": [
    "shear_value = 0.02\n",
    "scale = 0.168/4\n",
    "nx, ny = 256, 256\n",
    "outDir='galaxy_basicCenter_psf60'\n",
    "psfInt = galsim.Moffat(\n",
    "    beta=3.5, fwhm=0.6, trunc=0.6 * 4.0\n",
    ").shear(e1=0.02, e2=-0.02)\n",
    "psfData = psfInt.shift(0.5 * scale, 0.5 * scale).drawImage(nx=nx, ny=ny, scale=scale).array\n",
    "\n",
    "# Four Galaxies to cancel spin-2 and spin-4 ansiotropies\n",
    "# spin-2 is shape noise in diagnonal elements of shear response matrix\n",
    "# spin-4 is shape noise in diagnonal and of-diagnoal elements of shear response matrix, \n",
    "# but an order of magnitude smaller than spin-2\n",
    "\n",
    "gname = \"g1-2222\"\n",
    "gal_data = fpfs.simutil.make_isolate_sim(\n",
    "    gal_type=\"basic\",\n",
    "    psf_obj=psfInt,\n",
    "    gname=gname,\n",
    "    seed=2,\n",
    "    ny=ny,\n",
    "    nx=nx*4,\n",
    "    scale=scale,\n",
    "    do_shift=False,\n",
    "    nrot=4,\n",
    "    ngrid=nx,\n",
    ")\n",
    "plt.close()\n",
    "plt.imshow(gal_data,aspect='equal',cmap='RdYlBu_r',origin='lower',interpolation='None',\\\n",
    "             norm=simple_norm(gal_data,'asinh',asinh_a=0.1,min_cut=-0.01,max_cut=0.3))\n",
    "plt.show()\n",
    "# Now we measure shear\n",
    "rcut = 32\n",
    "\n",
    "# Force detection\n",
    "indX = np.arange(int(nx//2), nx*4, nx)\n",
    "indY = np.arange(int(ny//2), ny, ny)\n",
    "inds = np.meshgrid(indY, indX, indexing=\"ij\")\n",
    "coords = np.vstack([np.ravel(_) for _ in inds]).T\n",
    "\n",
    "fpTask  =   fpfs.image.measure_source(psfData,pix_scale = scale, sigma_arcsec=0.7)\n",
    "mms =  fpTask.measure(gal_data, coords)\n",
    "mms = fpTask.get_results(mms)\n",
    "ells=   fpfs.catalog.fpfs_m2e(mms,const=2000)\n",
    "resp=np.average(ells['fpfs_R1E'])\n",
    "shear=np.average(ells['fpfs_e1'])/resp\n",
    "\n",
    "print('Input shear is: %.6f' %shear_value)\n",
    "print('Estimated shear is: %.6f' %shear)"
   ]
  }
 ],
 "metadata": {
  "kernelspec": {
   "display_name": "Python 3 (ipykernel)",
   "language": "python",
   "name": "python3"
  },
  "language_info": {
   "codemirror_mode": {
    "name": "ipython",
    "version": 3
   },
   "file_extension": ".py",
   "mimetype": "text/x-python",
   "name": "python",
   "nbconvert_exporter": "python",
   "pygments_lexer": "ipython3",
   "version": "3.10.10"
  }
 },
 "nbformat": 4,
 "nbformat_minor": 5
}
