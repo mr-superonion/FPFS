{
 "cells": [
  {
   "cell_type": "code",
   "execution_count": 1,
   "id": "d03db39a-a790-4037-b03e-87635e2d1f36",
   "metadata": {
    "tags": []
   },
   "outputs": [],
   "source": [
    "%load_ext autoreload\n",
    "%autoreload 2\n",
    "%matplotlib inline\n",
    "\n",
    "\n",
    "import gc\n",
    "import os \n",
    "import fpfs\n",
    "import galsim\n",
    "import numpy as np\n",
    "import matplotlib.pylab as plt\n",
    "from astropy.visualization import simple_norm\n",
    "from mpl_toolkits.axes_grid1 import ImageGrid\n",
    "\n",
    "import matplotlib as mpl\n",
    "mpl.rcParams['axes.linewidth'] = 2.0 #set the value globally"
   ]
  },
  {
   "cell_type": "markdown",
   "id": "a9b59ba8-fcc8-4345-bed6-72f3e6d4b91f",
   "metadata": {},
   "source": [
    "# README\n",
    "This notebook show the test on isolated galaxies (center known)"
   ]
  },
  {
   "cell_type": "code",
   "execution_count": 2,
   "id": "5735e2a3-89d2-4f2f-934c-517e8771d357",
   "metadata": {
    "tags": []
   },
   "outputs": [
    {
     "name": "stderr",
     "output_type": "stream",
     "text": [
      "2023/05/10 03:11:51 ---  Processing for g1-2222, and shears for four redshift bins are [0.02 0.02 0.02 0.02].\n"
     ]
    },
    {
     "name": "stdout",
     "output_type": "stream",
     "text": [
      "Making Basic Simulation. ID: 2\n"
     ]
    },
    {
     "data": {
      "text/plain": [
       "5"
      ]
     },
     "execution_count": 2,
     "metadata": {},
     "output_type": "execute_result"
    },
    {
     "data": {
      "image/png": "[encoded data removed]",
      "text/plain": [
       "<Figure size 640x480 with 1 Axes>"
      ]
     },
     "metadata": {},
     "output_type": "display_data"
    }
   ],
   "source": [
    "shear_value = 0.02\n",
    "scale = 0.168\n",
    "outDir='galaxy_basicCenter_psf60'\n",
    "psfInt = galsim.Moffat(\n",
    "    beta=3.5, fwhm=0.6, trunc=0.6 * 4.0\n",
    ").shear(e1=0.02, e2=-0.02)\n",
    "psfData = psfInt.shift(0.5 * scale, 0.5 * scale).drawImage(nx=64, ny=64, scale=scale).array\n",
    "\n",
    "# Four Galaxies to cancel spin-2 and spin-4 ansiotropies\n",
    "# spin-2 is shape noise in diagnonal elements of shear response matrix\n",
    "# spin-4 is shape noise in diagnonal and of-diagnoal elements of shear response matrix, \n",
    "# but an order of magnitude smaller than spin-2\n",
    "gal_data = fpfs.simutil.make_basic_sim(\n",
    "    outDir,psf_obj=psfInt,gname='g1-2222',\n",
    "    ind0=2,ny=64,nx=256, scale=scale,\n",
    "    do_write=False,return_array=True,\n",
    "    shear_value = shear_value)\n",
    "plt.close()\n",
    "plt.imshow(gal_data,aspect='equal',cmap='RdYlBu_r',origin='lower',interpolation='None',\\\n",
    "             norm=simple_norm(gal_data,'asinh',asinh_a=0.1,min_cut=-0.01,max_cut=0.3))\n",
    "gc.collect()"
   ]
  },
  {
   "cell_type": "code",
   "execution_count": 3,
   "id": "ad984c89-16e0-4814-ba38-43151d285677",
   "metadata": {
    "tags": []
   },
   "outputs": [],
   "source": [
    "# Now we measure shear\n",
    "rcut = 32\n",
    "\n",
    "# fake detection\n",
    "indX = np.arange(32, 256, 64)\n",
    "indY = np.arange(32, 64, 64)\n",
    "inds = np.meshgrid(indY, indX, indexing=\"ij\")\n",
    "coords = np.vstack(inds).T"
   ]
  },
  {
   "cell_type": "code",
   "execution_count": 4,
   "id": "cdb7bb27-e022-48d5-b246-50c8b60bb5df",
   "metadata": {
    "tags": []
   },
   "outputs": [
    {
     "name": "stderr",
     "output_type": "stream",
     "text": [
      "2023-05-10 03:11:53.717695: I external/xla/xla/service/service.cc:168] XLA service 0x55d3bd2448f0 initialized for platform Interpreter (this does not guarantee that XLA will be used). Devices:\n",
      "2023-05-10 03:11:53.717726: I external/xla/xla/service/service.cc:176]   StreamExecutor device (0): Interpreter, <undefined>\n",
      "2023-05-10 03:11:53.724231: I external/xla/xla/pjrt/tfrt_cpu_pjrt_client.cc:218] TfrtCpuClient created.\n",
      "2023/05/10 03:11:53 ---  Unable to initialize backend 'cuda': module 'jaxlib.xla_extension' has no attribute 'GpuAllocatorConfig'\n",
      "2023/05/10 03:11:53 ---  Unable to initialize backend 'rocm': module 'jaxlib.xla_extension' has no attribute 'GpuAllocatorConfig'\n",
      "2023-05-10 03:11:53.725569: I external/xla/xla/stream_executor/tpu/tpu_initializer_helper.cc:269] Libtpu path is: libtpu.so\n",
      "2023-05-10 03:11:53.725942: I external/xla/xla/stream_executor/tpu/tpu_initializer_helper.cc:277] Failed to open libtpu: libtpu.so: cannot open shared object file: No such file or directory\n",
      "2023-05-10 03:11:53.726007: I external/xla/xla/stream_executor/tpu/tpu_platform_interface.cc:73] No TPU platform found.\n",
      "2023/05/10 03:11:53 ---  Unable to initialize backend 'tpu': INVALID_ARGUMENT: TpuPlatform is not available.\n",
      "2023/05/10 03:11:53 ---  Unable to initialize backend 'plugin': xla_extension has no attributes named get_plugin_device_client. Compile TensorFlow with //tensorflow/compiler/xla/python:enable_plugin_device set to true (defaults to false) to enable this.\n",
      "2023/05/10 03:11:53 ---  Shapelet kernel in configuration space: sigma= 0.7000 arcsec\n",
      "2023/05/10 03:11:53 ---  Detection kernel in configuration space: sigma= 0.7000 arcsec\n"
     ]
    }
   ],
   "source": [
    "fpTask  =   fpfs.image.measure_source(psfData, sigma_arcsec=0.7)\n",
    "mms =  fpTask.measure(gal_data, coords)\n",
    "mms = fpTask.get_results(mms)\n",
    "ells=   fpfs.catalog.fpfs_m2e(mms,const=2000)\n",
    "resp=np.average(ells['fpfs_R1E'])\n",
    "shear=np.average(ells['fpfs_e1'])/resp"
   ]
  },
  {
   "cell_type": "code",
   "execution_count": 5,
   "id": "5b3b6764-ac54-4eed-92b2-f1ecfa0d626c",
   "metadata": {
    "tags": []
   },
   "outputs": [
    {
     "name": "stdout",
     "output_type": "stream",
     "text": [
      "Input shear is: 0.020000\n",
      "Estimated shear is: 0.020001\n"
     ]
    }
   ],
   "source": [
    "print('Input shear is: %.6f' %shear_value)\n",
    "print('Estimated shear is: %.6f' %shear)"
   ]
  }
 ],
 "metadata": {
  "kernelspec": {
   "display_name": "Python 3 (ipykernel)",
   "language": "python",
   "name": "python3"
  },
  "language_info": {
   "codemirror_mode": {
    "name": "ipython",
    "version": 3
   },
   "file_extension": ".py",
   "mimetype": "text/x-python",
   "name": "python",
   "nbconvert_exporter": "python",
   "pygments_lexer": "ipython3",
   "version": "3.10.10"
  }
 },
 "nbformat": 4,
 "nbformat_minor": 5
}
