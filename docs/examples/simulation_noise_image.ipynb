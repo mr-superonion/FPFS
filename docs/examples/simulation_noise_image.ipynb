{
 "cells": [
  {
   "cell_type": "code",
   "execution_count": null,
   "id": "b1d79f65-5e9f-4af9-8bde-0447b8152c9b",
   "metadata": {},
   "outputs": [],
   "source": [
    "%matplotlib inline\n",
    "%reload_ext autoreload\n",
    "%autoreload 2\n",
    "import os\n",
    "import galsim\n",
    "import astropy.io.fits as pyfits"
   ]
  },
  {
   "cell_type": "code",
   "execution_count": null,
   "id": "51c95e6d-238c-4dd8-ba70-8123fbf44e9b",
   "metadata": {},
   "outputs": [],
   "source": [
    "ngrid = 64\n",
    "nx = 100\n",
    "ny = nx\n",
    "ud = 1\n",
    "scale = 0.168\n",
    "\n",
    "variance = 0.01\n",
    "ud = galsim.UniformDeviate(1)\n",
    "\n",
    "# setup the galaxy image and the noise image\n",
    "noi_image = galsim.ImageF(nx * ngrid, ny * ngrid, scale=scale)\n",
    "noi_image.setOrigin(0, 0)\n",
    "corNoise = galsim.getCOSMOSNoise(\n",
    "    file_name=\"./data/correlation.fits\",\n",
    "    rng=ud,\n",
    "    cosmos_scale=scale,\n",
    "    variance=variance,\n",
    ")\n",
    "corNoise.applyTo(noi_image)"
   ]
  }
 ],
 "metadata": {
  "kernelspec": {
   "display_name": "Python 3 (ipykernel)",
   "language": "python",
   "name": "python3"
  },
  "language_info": {
   "codemirror_mode": {
    "name": "ipython",
    "version": 3
   },
   "file_extension": ".py",
   "mimetype": "text/x-python",
   "name": "python",
   "nbconvert_exporter": "python",
   "pygments_lexer": "ipython3",
   "version": "3.11.5"
  }
 },
 "nbformat": 4,
 "nbformat_minor": 5
}
