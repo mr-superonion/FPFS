{
 "cells": [
  {
   "cell_type": "code",
   "execution_count": 1,
   "id": "b1d79f65-5e9f-4af9-8bde-0447b8152c9b",
   "metadata": {
    "tags": []
   },
   "outputs": [],
   "source": [
    "%matplotlib inline\n",
    "%reload_ext autoreload\n",
    "%autoreload 2\n",
    "import os\n",
    "import fpfs\n",
    "import galsim\n",
    "import numpy as np\n",
    "import matplotlib.pylab as plt"
   ]
  },
  {
   "cell_type": "code",
   "execution_count": 2,
   "id": "862f266c-770e-45e5-bac8-9228d2e8473f",
   "metadata": {
    "tags": []
   },
   "outputs": [],
   "source": [
    "class LensTransform1(object):\n",
    "    def __init__(self, gamma1, gamma2, kappa):\n",
    "        \"\"\"Initialize the transform object of 2D grids\n",
    "        Args:\n",
    "            gamma1 (float):     the first component of lensing shear field\n",
    "            gamma2 (float):     the second component of lensing shear field\n",
    "            kappa (float):      the lensing convergence field\n",
    "        \"\"\"\n",
    "        self.s2l_mat = np.array(\n",
    "            [\n",
    "                [1 - kappa - gamma1, -gamma2], \n",
    "                [-gamma2, 1 - kappa + gamma1]\n",
    "            ]\n",
    "        )\n",
    "        return\n",
    "    \n",
    "    def transform(self, coords):\n",
    "        \"\"\"transform the center of pixels from lensed plane to pre-lensed plane\n",
    "        Args:\n",
    "            coords:   coordinates (x, y) of the pixel centers [arcsec]\n",
    "        \"\"\"\n",
    "        return self.s2l_mat @ coords"
   ]
  },
  {
   "cell_type": "code",
   "execution_count": 3,
   "id": "8e028b35-c6b8-4948-ba7f-a9aa524e26e1",
   "metadata": {
    "tags": []
   },
   "outputs": [
    {
     "data": {
      "text/plain": [
       "<matplotlib.image.AxesImage at 0x7efcfcfa4e10>"
      ]
     },
     "execution_count": 3,
     "metadata": {},
     "output_type": "execute_result"
    },
    {
     "data": {
      "image/png": "[encoded data removed]",
      "text/plain": [
       "<Figure size 640x480 with 1 Axes>"
      ]
     },
     "metadata": {},
     "output_type": "display_data"
    }
   ],
   "source": [
    "flux = 40\n",
    "scale = 0.2\n",
    "nn = 64\n",
    "sersic_gal = galsim.Sersic(n=1.5, half_light_radius=1.5, flux=flux, trunc=4)\n",
    "stamp = fpfs.simutil.Stamp(nn=nn, scale=scale)\n",
    "gal_array = stamp.sample_galaxy(sersic_gal)\n",
    "plt.close()\n",
    "fpfs.pltutil.make_plot_image(gal_array)"
   ]
  },
  {
   "cell_type": "code",
   "execution_count": 4,
   "id": "37172756-2c28-4267-acdb-7b27ee81ad09",
   "metadata": {
    "tags": []
   },
   "outputs": [
    {
     "data": {
      "text/plain": [
       "<matplotlib.image.AxesImage at 0x7efcf4e52610>"
      ]
     },
     "execution_count": 4,
     "metadata": {},
     "output_type": "execute_result"
    },
    {
     "data": {
      "image/png": "[encoded data removed]",
      "text/plain": [
       "<Figure size 640x480 with 1 Axes>"
      ]
     },
     "metadata": {},
     "output_type": "display_data"
    }
   ],
   "source": [
    "kappa = 0.0\n",
    "gamma1 = 0.2\n",
    "gamma2 = 0.0\n",
    "lens = LensTransform1(gamma1=gamma1, gamma2=gamma2, kappa=kappa)\n",
    "\n",
    "stamp = fpfs.simutil.Stamp(nn=nn, scale=scale)\n",
    "stamp.transform_grids(lens)\n",
    "gal_array2 = stamp.sample_galaxy(sersic_gal)\n",
    "plt.close()\n",
    "fpfs.pltutil.make_plot_image(gal_array2)"
   ]
  },
  {
   "cell_type": "code",
   "execution_count": 5,
   "id": "758ac343-e0d6-423d-9e09-d4d262eaf20a",
   "metadata": {
    "tags": []
   },
   "outputs": [
    {
     "name": "stderr",
     "output_type": "stream",
     "text": [
      "2023/09/20 02:13:48 ---  Unable to initialize backend 'cuda': module 'jaxlib.xla_extension' has no attribute 'GpuAllocatorConfig'\n",
      "2023/09/20 02:13:48 ---  Unable to initialize backend 'rocm': module 'jaxlib.xla_extension' has no attribute 'GpuAllocatorConfig'\n",
      "2023/09/20 02:13:48 ---  Unable to initialize backend 'tpu': module 'jaxlib.xla_extension' has no attribute 'get_tpu_client'\n",
      "2023/09/20 02:13:48 ---  No GPU/TPU found, falling back to CPU. (Set TF_CPP_MIN_LOG_LEVEL=0 and rerun for more info.)\n",
      "2023/09/20 02:13:48 ---  Order of the shear estimator: nnord=4\n",
      "2023/09/20 02:13:48 ---  Shapelet kernel in configuration space: sigma= 0.5200 arcsec\n",
      "2023/09/20 02:13:48 ---  Detection kernel in configuration space: sigma= 0.5200 arcsec\n"
     ]
    },
    {
     "name": "stdout",
     "output_type": "stream",
     "text": [
      "input shear: 0.02000\n",
      "measured shear: 0.02003\n"
     ]
    }
   ],
   "source": [
    "kappa = 0.0\n",
    "gamma1 = 0.02\n",
    "gamma2 = 0.0\n",
    "lens = LensTransform1(gamma1=gamma1, gamma2=gamma2, kappa=kappa)\n",
    "stamp = fpfs.simutil.Stamp(nn=64, scale=scale)\n",
    "stamp.transform_grids(lens)\n",
    "gal_array3 = stamp.sample_galaxy(sersic_gal)\n",
    "psf_array = np.zeros(stamp.shape)\n",
    "psf_array[nn // 2, nn // 2] = 1\n",
    "\n",
    "coords = np.array([nn//2, nn//2])\n",
    "fpTask  =   fpfs.image.measure_source(psf_array, pix_scale = scale, sigma_arcsec=0.52)\n",
    "mms =  fpTask.measure(gal_array3, coords)\n",
    "mms = fpTask.get_results(mms)\n",
    "ells=   fpfs.catalog.fpfs_m2e(mms,const=20)\n",
    "resp=np.average(ells['fpfs_R1E'])\n",
    "shear=np.average(ells['fpfs_e1'])/resp\n",
    "print(\"input shear: %.5f\" % gamma1)\n",
    "print(\"measured shear: %.5f\" % shear)"
   ]
  }
 ],
 "metadata": {
  "kernelspec": {
   "display_name": "Python 3 (ipykernel)",
   "language": "python",
   "name": "python3"
  },
  "language_info": {
   "codemirror_mode": {
    "name": "ipython",
    "version": 3
   },
   "file_extension": ".py",
   "mimetype": "text/x-python",
   "name": "python",
   "nbconvert_exporter": "python",
   "pygments_lexer": "ipython3",
   "version": "3.11.5"
  }
 },
 "nbformat": 4,
 "nbformat_minor": 5
}
